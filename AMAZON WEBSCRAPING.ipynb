{
 "cells": [
  {
   "cell_type": "markdown",
   "metadata": {},
   "source": [
    "# Automated Web Scraper For Amazon.com"
   ]
  },
  {
   "cell_type": "markdown",
   "metadata": {},
   "source": [
    "## Installation\n",
    "\n",
    "We will be using:\n",
    "\n",
    "Selenium\n",
    "BeautifulSoup\n",
    "Webdrivers"
   ]
  },
  {
   "cell_type": "code",
   "execution_count": 1,
   "metadata": {},
   "outputs": [
    {
     "name": "stdout",
     "output_type": "stream",
     "text": [
      "Collecting selenium\n",
      "  Downloading selenium-4.0.0-py3-none-any.whl (954 kB)\n",
      "Collecting urllib3[secure]~=1.26\n",
      "  Downloading urllib3-1.26.7-py2.py3-none-any.whl (138 kB)\n",
      "Collecting trio~=0.17\n",
      "  Downloading trio-0.19.0-py3-none-any.whl (356 kB)\n",
      "Collecting trio-websocket~=0.9\n",
      "  Downloading trio_websocket-0.9.2-py3-none-any.whl (16 kB)\n",
      "Requirement already satisfied: async-generator>=1.9 in c:\\users\\dell\\anaconda3\\lib\\site-packages (from trio~=0.17->selenium) (1.10)\n",
      "Requirement already satisfied: idna in c:\\users\\dell\\anaconda3\\lib\\site-packages (from trio~=0.17->selenium) (2.6)\n",
      "Requirement already satisfied: sniffio in c:\\users\\dell\\anaconda3\\lib\\site-packages (from trio~=0.17->selenium) (1.2.0)\n",
      "Requirement already satisfied: sortedcontainers in c:\\users\\dell\\anaconda3\\lib\\site-packages (from trio~=0.17->selenium) (2.3.0)\n",
      "Collecting outcome\n",
      "  Downloading outcome-1.1.0-py2.py3-none-any.whl (9.7 kB)\n",
      "Requirement already satisfied: attrs>=19.2.0 in c:\\users\\dell\\anaconda3\\lib\\site-packages (from trio~=0.17->selenium) (20.3.0)\n",
      "Requirement already satisfied: cffi>=1.14 in c:\\users\\dell\\anaconda3\\lib\\site-packages (from trio~=0.17->selenium) (1.14.5)\n",
      "Requirement already satisfied: pycparser in c:\\users\\dell\\anaconda3\\lib\\site-packages (from cffi>=1.14->trio~=0.17->selenium) (2.20)\n",
      "Collecting wsproto>=0.14\n",
      "  Downloading wsproto-1.0.0-py3-none-any.whl (24 kB)\n",
      "Requirement already satisfied: cryptography>=1.3.4 in c:\\users\\dell\\anaconda3\\lib\\site-packages (from urllib3[secure]~=1.26->selenium) (3.4.7)\n",
      "Requirement already satisfied: certifi in c:\\users\\dell\\anaconda3\\lib\\site-packages (from urllib3[secure]~=1.26->selenium) (2020.12.5)\n",
      "Requirement already satisfied: pyOpenSSL>=0.14 in c:\\users\\dell\\anaconda3\\lib\\site-packages (from urllib3[secure]~=1.26->selenium) (20.0.1)\n",
      "Requirement already satisfied: six>=1.5.2 in c:\\users\\dell\\anaconda3\\lib\\site-packages (from pyOpenSSL>=0.14->urllib3[secure]~=1.26->selenium) (1.15.0)\n",
      "Collecting h11<1,>=0.9.0\n",
      "  Downloading h11-0.12.0-py3-none-any.whl (54 kB)\n",
      "Installing collected packages: outcome, h11, wsproto, urllib3, trio, trio-websocket, selenium\n",
      "  Attempting uninstall: urllib3\n",
      "    Found existing installation: urllib3 1.22\n",
      "    Uninstalling urllib3-1.22:\n",
      "      Successfully uninstalled urllib3-1.22\n",
      "Successfully installed h11-0.12.0 outcome-1.1.0 selenium-4.0.0 trio-0.19.0 trio-websocket-0.9.2 urllib3-1.26.7 wsproto-1.0.0\n"
     ]
    },
    {
     "name": "stderr",
     "output_type": "stream",
     "text": [
      "ERROR: pip's dependency resolver does not currently take into account all the packages that are installed. This behaviour is the source of the following dependency conflicts.\n",
      "conda-repo-cli 1.0.4 requires pathlib, which is not installed.\n",
      "anaconda-project 0.9.1 requires ruamel-yaml, which is not installed.\n"
     ]
    },
    {
     "name": "stdout",
     "output_type": "stream",
     "text": [
      "Collecting msedge-selenium-tools\n",
      "  Downloading msedge_selenium_tools-3.141.3-py3-none-any.whl (15 kB)\n",
      "Collecting selenium==3.141\n",
      "  Downloading selenium-3.141.0-py2.py3-none-any.whl (904 kB)\n",
      "Requirement already satisfied: urllib3 in c:\\users\\dell\\anaconda3\\lib\\site-packages (from selenium==3.141->msedge-selenium-tools) (1.26.7)\n",
      "Installing collected packages: selenium, msedge-selenium-tools\n",
      "  Attempting uninstall: selenium\n",
      "    Found existing installation: selenium 4.0.0\n",
      "    Uninstalling selenium-4.0.0:\n",
      "      Successfully uninstalled selenium-4.0.0\n",
      "Successfully installed msedge-selenium-tools-3.141.3 selenium-3.141.0\n",
      "Requirement already satisfied: bs4 in c:\\users\\dell\\anaconda3\\lib\\site-packages (0.0.1)\n",
      "Requirement already satisfied: beautifulsoup4 in c:\\users\\dell\\anaconda3\\lib\\site-packages (from bs4) (4.9.3)\n",
      "Requirement already satisfied: soupsieve>1.2 in c:\\users\\dell\\anaconda3\\lib\\site-packages (from beautifulsoup4->bs4) (2.2.1)\n"
     ]
    }
   ],
   "source": [
    "# !pip install selenium\n",
    "# !pip install msedge-selenium-tools\n",
    "# !pip install bs4"
   ]
  },
  {
   "cell_type": "code",
   "execution_count": 11,
   "metadata": {},
   "outputs": [
    {
     "name": "stdout",
     "output_type": "stream",
     "text": [
      "Collecting chromedriver_binary==95.0.4638.69\n",
      "  Downloading chromedriver-binary-95.0.4638.69.0.tar.gz (4.9 kB)\n",
      "Building wheels for collected packages: chromedriver-binary\n",
      "  Building wheel for chromedriver-binary (setup.py): started\n",
      "  Building wheel for chromedriver-binary (setup.py): finished with status 'done'\n",
      "  Created wheel for chromedriver-binary: filename=chromedriver_binary-95.0.4638.69.0-py3-none-any.whl size=6029270 sha256=950e7d66fbd78524851ff210ca06fdd9545037db405c83e29d8fd80db51943ac\n",
      "  Stored in directory: c:\\users\\dell\\appdata\\local\\pip\\cache\\wheels\\d3\\df\\b3\\bf2d9576df30ad711a7393d71dde1ff62fa686432e24f3fede\n",
      "Successfully built chromedriver-binary\n",
      "Installing collected packages: chromedriver-binary\n",
      "  Attempting uninstall: chromedriver-binary\n",
      "    Found existing installation: chromedriver-binary 96.0.4664.35.0\n",
      "    Uninstalling chromedriver-binary-96.0.4664.35.0:\n",
      "      Successfully uninstalled chromedriver-binary-96.0.4664.35.0\n",
      "Successfully installed chromedriver-binary-95.0.4638.69.0\n"
     ]
    }
   ],
   "source": [
    "# pip install chromedriver-binary\n",
    "!pip install chromedriver_binary==95.0.4638.69 "
   ]
  },
  {
   "cell_type": "markdown",
   "metadata": {},
   "source": [
    "Import the necessary libraries"
   ]
  },
  {
   "cell_type": "code",
   "execution_count": 42,
   "metadata": {},
   "outputs": [],
   "source": [
    "from selenium import webdriver\n",
    "import chromedriver_binary\n",
    "\n",
    "#for moicrosoft edge\n",
    "from msedge.selenium_tools import Edge, EdgeOptions\n",
    "import csv"
   ]
  },
  {
   "cell_type": "markdown",
   "metadata": {},
   "source": [
    "Setup the web driver"
   ]
  },
  {
   "cell_type": "code",
   "execution_count": 43,
   "metadata": {},
   "outputs": [],
   "source": [
    "#for chrome users\n",
    "driver = webdriver.Chrome()\n",
    "\n",
    "# driver = webdriver.Chrome(executable_path='/Macintosh HD/Users/mybeast/Dowmloads/chromedriver')"
   ]
  },
  {
   "cell_type": "markdown",
   "metadata": {},
   "source": [
    "For Firefox and microsoft edge"
   ]
  },
  {
   "cell_type": "code",
   "execution_count": 14,
   "metadata": {},
   "outputs": [],
   "source": [
    "## for Firefox\n",
    "\n",
    "#driver = webdriver.Firefox()\n",
    "\n",
    "\n",
    "##for microsoft edge\n",
    "\n",
    "# options = EdgeOptions()\n",
    "# options.use_chromium =True\n",
    "# driver = Edge(options=options)\n",
    "\n",
    "## reference:\n",
    "\n",
    "## https://github.com/mozilla/geckodriver/releases/download/v0.28.0/geckodriver-v0.28.0-win64.zip\n",
    "## https://sites.google.com/a/chromium.org/chromedriver/\n",
    "\n",
    "## https://developer.microsoft.com/en-us/microsoft-edge/tools/webdriver/\n"
   ]
  },
  {
   "cell_type": "markdown",
   "metadata": {},
   "source": [
    "Let's now specify the URL we will like to get data from. In this case: https://www.amazon.com/"
   ]
  },
  {
   "cell_type": "code",
   "execution_count": 15,
   "metadata": {},
   "outputs": [],
   "source": [
    "url= 'https://www.amazon.com/'"
   ]
  },
  {
   "cell_type": "code",
   "execution_count": 16,
   "metadata": {},
   "outputs": [],
   "source": [
    "driver.get(url)"
   ]
  },
  {
   "cell_type": "markdown",
   "metadata": {},
   "source": [
    "We will define a function which we will later by just passing in our keyword to search on amazon.com as shown below"
   ]
  },
  {
   "cell_type": "code",
   "execution_count": 17,
   "metadata": {},
   "outputs": [],
   "source": [
    "def my_url(keyword):\n",
    "    \n",
    "#     temp = 'https://www.amazon.com/s?k=phone+case&ref=nb_sb_noss_1' #let's get rid of the 'phone+case' and replace it with {} to make the url generic.\n",
    "      temp = 'https://www.amazon.com/s?k={}&ref=nb_sb_noss_1' # a template url\n",
    "      keyword = keyword.replace(' ', '+')\n",
    "      return temp.format(keyword)"
   ]
  },
  {
   "cell_type": "code",
   "execution_count": 18,
   "metadata": {},
   "outputs": [
    {
     "data": {
      "text/plain": [
       "'https://www.amazon.com/s?k=laptop&ref=nb_sb_noss_1'"
      ]
     },
     "execution_count": 18,
     "metadata": {},
     "output_type": "execute_result"
    }
   ],
   "source": [
    "#we can pass our keyword in the function to get the correct url of the keyword on amazon.com\n",
    "\n",
    "url=my_url('laptop') \n",
    "url"
   ]
  },
  {
   "cell_type": "code",
   "execution_count": 19,
   "metadata": {},
   "outputs": [
    {
     "data": {
      "text/plain": [
       "'https://www.amazon.com/s?k=laptop+charger&ref=nb_sb_noss_1'"
      ]
     },
     "execution_count": 19,
     "metadata": {},
     "output_type": "execute_result"
    }
   ],
   "source": [
    "#we can even pass multiple keywords\n",
    "url=my_url('laptop charger')\n",
    "url"
   ]
  },
  {
   "cell_type": "code",
   "execution_count": 20,
   "metadata": {},
   "outputs": [],
   "source": [
    "driver.get(url) #this will open in your browser and return the page for your keyword"
   ]
  },
  {
   "cell_type": "code",
   "execution_count": 21,
   "metadata": {},
   "outputs": [],
   "source": [
    "from bs4 import BeautifulSoup\n",
    "\n",
    "soup = BeautifulSoup(driver.page_source,'html.parser')"
   ]
  },
  {
   "cell_type": "code",
   "execution_count": 22,
   "metadata": {},
   "outputs": [],
   "source": [
    "soup_results=soup.find_all('div',{'data-component-type':'s-search-result'})"
   ]
  },
  {
   "cell_type": "code",
   "execution_count": 23,
   "metadata": {},
   "outputs": [
    {
     "data": {
      "text/plain": [
       "22"
      ]
     },
     "execution_count": 23,
     "metadata": {},
     "output_type": "execute_result"
    }
   ],
   "source": [
    "len(soup_results)"
   ]
  },
  {
   "cell_type": "markdown",
   "metadata": {},
   "source": [
    "We will now create a template which we can based on to make a generic request to extract the data that we need."
   ]
  },
  {
   "cell_type": "code",
   "execution_count": 24,
   "metadata": {},
   "outputs": [],
   "source": [
    "# we will assign our first result to an obj\n",
    "\n",
    "obj=soup_results[0]"
   ]
  },
  {
   "cell_type": "code",
   "execution_count": 25,
   "metadata": {},
   "outputs": [],
   "source": [
    "atag = obj.h2.a #create the h2 tag variable"
   ]
  },
  {
   "cell_type": "code",
   "execution_count": 26,
   "metadata": {},
   "outputs": [],
   "source": [
    "des = atag.text.strip()"
   ]
  },
  {
   "cell_type": "code",
   "execution_count": 27,
   "metadata": {},
   "outputs": [
    {
     "data": {
      "text/plain": [
       "'Mac Book Pro Charger - 96W USB C Power Adapter Compatible with MacBook Pro 16, 15, 13 Inch 2020 2019 2018, MacBook Air 13 Inch, Thunderbolt 3 Laptop Power Supply, Included 6.6ft USB-C to USB-C Cable'"
      ]
     },
     "execution_count": 27,
     "metadata": {},
     "output_type": "execute_result"
    }
   ],
   "source": [
    "des #we can see below that we have the title correctly scraped"
   ]
  },
  {
   "cell_type": "code",
   "execution_count": 28,
   "metadata": {},
   "outputs": [],
   "source": [
    "#let's now create a generic url\n",
    "\n",
    "url='https://www.amazon.com/'+atag.get('href')"
   ]
  },
  {
   "cell_type": "code",
   "execution_count": 29,
   "metadata": {},
   "outputs": [
    {
     "data": {
      "text/plain": [
       "'$35.99'"
      ]
     },
     "execution_count": 29,
     "metadata": {},
     "output_type": "execute_result"
    }
   ],
   "source": [
    "# Get the Price\n",
    "#let's get the price same way we searched for the title by looking for the div tag, in this case, we will look for the tag that contains the price of the item.\n",
    "\n",
    "#we will get this from the 'span' which contains the a-price and then use the 'span' which contains 'a-offscreen' to obtain the actual price.\n",
    "\n",
    "parent=obj.find('span','a-price')\n",
    "\n",
    "price=parent.find('span','a-offscreen').text\n",
    "\n",
    "price"
   ]
  },
  {
   "cell_type": "markdown",
   "metadata": {},
   "source": [
    "Get the Reviews"
   ]
  },
  {
   "cell_type": "code",
   "execution_count": 30,
   "metadata": {},
   "outputs": [
    {
     "data": {
      "text/plain": [
       "'4.7 out of 5 stars'"
      ]
     },
     "execution_count": 30,
     "metadata": {},
     "output_type": "execute_result"
    }
   ],
   "source": [
    "#We will do the same thing for the Reviews\n",
    "\n",
    "\n",
    "rate=obj.find('span','a-icon-alt').text\n",
    "rate"
   ]
  },
  {
   "cell_type": "code",
   "execution_count": 31,
   "metadata": {},
   "outputs": [
    {
     "data": {
      "text/plain": [
       "'4.7 out of 5 stars'"
      ]
     },
     "execution_count": 31,
     "metadata": {},
     "output_type": "execute_result"
    }
   ],
   "source": [
    "# alternatively\n",
    "obj.i.text"
   ]
  },
  {
   "cell_type": "markdown",
   "metadata": {},
   "source": [
    "Get the review Counts"
   ]
  },
  {
   "cell_type": "code",
   "execution_count": 34,
   "metadata": {},
   "outputs": [
    {
     "data": {
      "text/plain": [
       "'380'"
      ]
     },
     "execution_count": 34,
     "metadata": {},
     "output_type": "execute_result"
    }
   ],
   "source": [
    "#we can get the number of customers who have reviewed the item as well\n",
    "\n",
    "counts_review=obj.find('span','a-size-base').text\n",
    "counts_review"
   ]
  },
  {
   "cell_type": "code",
   "execution_count": 35,
   "metadata": {},
   "outputs": [
    {
     "data": {
      "text/plain": [
       "<img alt=\"Sponsored Ad - Mac Book Pro Charger - 96W USB C Power Adapter Compatible with MacBook Pro 16, 15, 13 Inch 2020 2019 2018, ...\" class=\"s-image\" data-image-index=\"1\" data-image-latency=\"s-product-image\" data-image-load=\"\" data-image-source-density=\"1\" src=\"https://m.media-amazon.com/images/I/51iq26SKZsL._AC_UY218_.jpg\" srcset=\"https://m.media-amazon.com/images/I/51iq26SKZsL._AC_UY218_.jpg 1x, https://m.media-amazon.com/images/I/51iq26SKZsL._AC_UY327_FMwebp_QL65_.jpg 1.5x, https://m.media-amazon.com/images/I/51iq26SKZsL._AC_UY436_FMwebp_QL65_.jpg 2x, https://m.media-amazon.com/images/I/51iq26SKZsL._AC_UY545_FMwebp_QL65_.jpg 2.5x, https://m.media-amazon.com/images/I/51iq26SKZsL._AC_UY654_FMwebp_QL65_.jpg 3x\"/>"
      ]
     },
     "execution_count": 35,
     "metadata": {},
     "output_type": "execute_result"
    }
   ],
   "source": [
    "obj.img"
   ]
  },
  {
   "cell_type": "markdown",
   "metadata": {},
   "source": [
    "# Generic Fuction"
   ]
  },
  {
   "cell_type": "markdown",
   "metadata": {},
   "source": [
    "We will now create a generic fuction for the sub codes to extract all the data at once."
   ]
  },
  {
   "cell_type": "code",
   "execution_count": 44,
   "metadata": {},
   "outputs": [],
   "source": [
    "from selenium import webdriver\n",
    "import chromedriver_binary\n",
    "from bs4 import BeautifulSoup\n",
    "#for moicrosoft edge\n",
    "from msedge.selenium_tools import Edge, EdgeOptions\n",
    "import csv\n",
    "\n",
    "#We will be using functions to achieve this\n",
    "\n",
    "def my_url(keyword):\n",
    "    temp = 'https://www.amazon.com/s?k={}&ref=nb_sb_noss_1'\n",
    "    keyword = keyword.replace(' ', '+')\n",
    "    \n",
    "    # Add Term Query To URL\n",
    "    url = temp.format(keyword)\n",
    "    \n",
    "    # Add Page Query Placeholder\n",
    "    url += '&page{}'\n",
    "    \n",
    "    return url\n",
    "\n",
    "def extract_record(obj):\n",
    "    atag = obj.h2.a\n",
    "    description = atag.text.strip()\n",
    "    url = 'https://www.amazon.com' + atag.get('href')\n",
    "    \n",
    "    #it is possible that some items on amazom.com might not be having one of the items we are looking for(e.g. some items might not be having ratings or price), we will be getting error if we dont take care of that. We will therefore add some error handlers\n",
    "    #if there are no price,probably the item is out of stock or not available, then we will ignore the item, but if there are no reviews yet, it's fine, we will still want to extract the item.\n",
    "    try:\n",
    "        parent=obj.find('span','a-price')\n",
    "        price=parent.find('span','a-offscreen').text\n",
    "    except AttributeError: #we are excepting the error if it occurs so that we can move to extract the next item, else the program will stop running and gives error\n",
    "        return\n",
    "    \n",
    "    try:\n",
    "        rate=obj.i.text\n",
    "        counts_review = obj.find('span','a-size-base').text\n",
    "    except AttributeError:\n",
    "        #assigning empty string to ratings and \n",
    "        rate = ''\n",
    "        counts_review = ''\n",
    "    \n",
    "    image = obj.find('img', {'class': 's-image'}).get('src') \n",
    "    \n",
    "    #let's create a tuple that will contain all these items and assign it to a result variable\n",
    "    result = (description, price, rate, counts_review, url,image)\n",
    "    return result\n",
    "\n",
    "'''Run Main Program Routine'''\n",
    "def main(keyword):\n",
    "    # Startup The Webdriver\n",
    "    driver = webdriver.Chrome()\n",
    "#     options = EdgeOptions()\n",
    "#     options.use_chromium =True\n",
    "#     driver = Edge(options=options)\n",
    "    \n",
    "    records = []  #an empty records list to contain all of our extracted records\n",
    "    url =my_url(keyword)\n",
    "    \n",
    "    for page in range(1, 3):\n",
    "        driver.get(url.format(page))\n",
    "        soup =BeautifulSoup(driver.page_source, 'html.parser')\n",
    "        results=soup.find_all('div',{'data-component-type':'s-search-result'})\n",
    "#         results=soup.find_all('div',{'data-component-type': 's-search-result'}) #same as we did above\n",
    "\n",
    "        \n",
    "#we will like to check if what we have return from the extract_record function is empty or not\n",
    "        for item in results:\n",
    "            record = extract_record(item) \n",
    "            if record: #if the record has something in it append to records list\n",
    "                records.append(record) \n",
    "                \n",
    "#         driver.quit()\n",
    "    \n",
    "#     # Save Results To CSV File\n",
    "        with open('Results.csv', 'w', newline='', encoding='utf-8') as f:\n",
    "            writer = csv.writer(f)\n",
    "            writer.writerow(['Description', 'Price', 'Rating', 'Reviews Count', 'URL','Image link'])\n",
    "            writer.writerows(records)"
   ]
  },
  {
   "cell_type": "code",
   "execution_count": 45,
   "metadata": {},
   "outputs": [],
   "source": [
    "main('school bag') #we can search for any item to extract data"
   ]
  },
  {
   "cell_type": "markdown",
   "metadata": {},
   "source": [
    "You can scrape as many data points as possible with any keyword, oh yes !!\n",
    "\n",
    "You can load the dataset you have scraped and perform and use it for your project"
   ]
  },
  {
   "cell_type": "code",
   "execution_count": 47,
   "metadata": {},
   "outputs": [
    {
     "data": {
      "text/html": [
       "<div>\n",
       "<style scoped>\n",
       "    .dataframe tbody tr th:only-of-type {\n",
       "        vertical-align: middle;\n",
       "    }\n",
       "\n",
       "    .dataframe tbody tr th {\n",
       "        vertical-align: top;\n",
       "    }\n",
       "\n",
       "    .dataframe thead th {\n",
       "        text-align: right;\n",
       "    }\n",
       "</style>\n",
       "<table border=\"1\" class=\"dataframe\">\n",
       "  <thead>\n",
       "    <tr style=\"text-align: right;\">\n",
       "      <th></th>\n",
       "      <th>Description</th>\n",
       "      <th>Price</th>\n",
       "      <th>Rating</th>\n",
       "      <th>Reviews Count</th>\n",
       "      <th>URL</th>\n",
       "      <th>Image link</th>\n",
       "    </tr>\n",
       "  </thead>\n",
       "  <tbody>\n",
       "    <tr>\n",
       "      <th>0</th>\n",
       "      <td>Modoker Vintage Laptop Backpack for Women Men,...</td>\n",
       "      <td>$29.99</td>\n",
       "      <td>4.6 out of 5 stars</td>\n",
       "      <td>17,837</td>\n",
       "      <td>https://www.amazon.com/gp/slredirect/picassoRe...</td>\n",
       "      <td>https://m.media-amazon.com/images/I/81ZhsL-772...</td>\n",
       "    </tr>\n",
       "    <tr>\n",
       "      <th>1</th>\n",
       "      <td>Matein Travel Laptop Backpack, Business Anti T...</td>\n",
       "      <td>$29.99</td>\n",
       "      <td>4.8 out of 5 stars</td>\n",
       "      <td>49,588</td>\n",
       "      <td>https://www.amazon.com/Backpack-Business-Charg...</td>\n",
       "      <td>https://m.media-amazon.com/images/I/81p91cnIFE...</td>\n",
       "    </tr>\n",
       "    <tr>\n",
       "      <th>2</th>\n",
       "      <td>Laptop Backpack,Business Travel Anti Theft Sli...</td>\n",
       "      <td>$31.99</td>\n",
       "      <td>4.7 out of 5 stars</td>\n",
       "      <td>15,918</td>\n",
       "      <td>https://www.amazon.com/Backpack-Business-Charg...</td>\n",
       "      <td>https://m.media-amazon.com/images/I/81idlqFqcU...</td>\n",
       "    </tr>\n",
       "    <tr>\n",
       "      <th>3</th>\n",
       "      <td>JanSport SuperBreak One Backpack - Lightweight...</td>\n",
       "      <td>$36.00</td>\n",
       "      <td>4.7 out of 5 stars</td>\n",
       "      <td>23,810</td>\n",
       "      <td>https://www.amazon.com/JanSport-Superbreak-Bac...</td>\n",
       "      <td>https://m.media-amazon.com/images/I/91HkBT96VM...</td>\n",
       "    </tr>\n",
       "    <tr>\n",
       "      <th>4</th>\n",
       "      <td>Himawari Travel School Backpack with USB Charg...</td>\n",
       "      <td>$40.99</td>\n",
       "      <td>4.7 out of 5 stars</td>\n",
       "      <td>12,254</td>\n",
       "      <td>https://www.amazon.com/Himawari-Travel-Backpac...</td>\n",
       "      <td>https://m.media-amazon.com/images/I/61RX9JQlk+...</td>\n",
       "    </tr>\n",
       "    <tr>\n",
       "      <th>5</th>\n",
       "      <td>YOREPEK Backpack for Men,Extra Large 50L Trave...</td>\n",
       "      <td>$39.99</td>\n",
       "      <td>4.8 out of 5 stars</td>\n",
       "      <td>25,419</td>\n",
       "      <td>https://www.amazon.com/Backpack-Charging-Frien...</td>\n",
       "      <td>https://m.media-amazon.com/images/I/71cxnnsEHl...</td>\n",
       "    </tr>\n",
       "    <tr>\n",
       "      <th>6</th>\n",
       "      <td>UGRACE Vintage Laptop Backpack with USB Chargi...</td>\n",
       "      <td>$29.99</td>\n",
       "      <td>4.7 out of 5 stars</td>\n",
       "      <td>4,773</td>\n",
       "      <td>https://www.amazon.com/UGRACE-Backpack-Chargin...</td>\n",
       "      <td>https://m.media-amazon.com/images/I/81PH0selXq...</td>\n",
       "    </tr>\n",
       "    <tr>\n",
       "      <th>7</th>\n",
       "      <td>MANCIO Slim Laptop Backpack with USB Charging ...</td>\n",
       "      <td>$27.99</td>\n",
       "      <td>4.7 out of 5 stars</td>\n",
       "      <td>7,399</td>\n",
       "      <td>https://www.amazon.com/Backpack-Charging-Resis...</td>\n",
       "      <td>https://m.media-amazon.com/images/I/7112BpcDsn...</td>\n",
       "    </tr>\n",
       "    <tr>\n",
       "      <th>8</th>\n",
       "      <td>PUMA Evercat Contender Backpack</td>\n",
       "      <td>$24.00</td>\n",
       "      <td>4.7 out of 5 stars</td>\n",
       "      <td>9,592</td>\n",
       "      <td>https://www.amazon.com/PUMA-Evercat-Contender-...</td>\n",
       "      <td>https://m.media-amazon.com/images/I/A1Y1RCRyK2...</td>\n",
       "    </tr>\n",
       "    <tr>\n",
       "      <th>9</th>\n",
       "      <td>Leather Messenger Bag for Men, 17.3 Inch Vinta...</td>\n",
       "      <td>$45.99</td>\n",
       "      <td>4.6 out of 5 stars</td>\n",
       "      <td>2,466</td>\n",
       "      <td>https://www.amazon.com/gp/slredirect/picassoRe...</td>\n",
       "      <td>https://m.media-amazon.com/images/I/71eSTfEnl+...</td>\n",
       "    </tr>\n",
       "    <tr>\n",
       "      <th>10</th>\n",
       "      <td>Himawari Laptop Backpack Travel Backpack With ...</td>\n",
       "      <td>$39.99</td>\n",
       "      <td>4.7 out of 5 stars</td>\n",
       "      <td>13,909</td>\n",
       "      <td>https://www.amazon.com/Himawari-Laptop-Backpac...</td>\n",
       "      <td>https://m.media-amazon.com/images/I/819FuK0wRk...</td>\n",
       "    </tr>\n",
       "    <tr>\n",
       "      <th>11</th>\n",
       "      <td>JanSport Cool Student Backpack - School, Trave...</td>\n",
       "      <td>$56.83</td>\n",
       "      <td>4.8 out of 5 stars</td>\n",
       "      <td>6,748</td>\n",
       "      <td>https://www.amazon.com/JanSport-Classic-Mainst...</td>\n",
       "      <td>https://m.media-amazon.com/images/I/91h5GCvpZJ...</td>\n",
       "    </tr>\n",
       "    <tr>\n",
       "      <th>12</th>\n",
       "      <td>Lightweight Backpack for School, VASCHY Classi...</td>\n",
       "      <td>$23.99</td>\n",
       "      <td>4.7 out of 5 stars</td>\n",
       "      <td>6,548</td>\n",
       "      <td>https://www.amazon.com/VASCHY-Lightweight-Back...</td>\n",
       "      <td>https://m.media-amazon.com/images/I/71xvovPVlS...</td>\n",
       "    </tr>\n",
       "    <tr>\n",
       "      <th>13</th>\n",
       "      <td>SHRRADOO Anti Theft Laptop Backpack Travel Bac...</td>\n",
       "      <td>$25.99</td>\n",
       "      <td>4.7 out of 5 stars</td>\n",
       "      <td>19,483</td>\n",
       "      <td>https://www.amazon.com/SOLDIERKNIFE-Waterproof...</td>\n",
       "      <td>https://m.media-amazon.com/images/I/81yBu9k41y...</td>\n",
       "    </tr>\n",
       "    <tr>\n",
       "      <th>14</th>\n",
       "      <td>Casual Backpack Laptop 15 Inch Waterproof Scho...</td>\n",
       "      <td>$23.99</td>\n",
       "      <td>4.1 out of 5 stars</td>\n",
       "      <td>9</td>\n",
       "      <td>https://www.amazon.com/gp/slredirect/picassoRe...</td>\n",
       "      <td>https://m.media-amazon.com/images/I/71FQG7OsJG...</td>\n",
       "    </tr>\n",
       "    <tr>\n",
       "      <th>15</th>\n",
       "      <td>Peicees Galaxy School Backpack with USB Chargi...</td>\n",
       "      <td>$24.99</td>\n",
       "      <td>4.2 out of 5 stars</td>\n",
       "      <td>206</td>\n",
       "      <td>https://www.amazon.com/Peicees-Backpack-Chargi...</td>\n",
       "      <td>https://m.media-amazon.com/images/I/611z6m2XFh...</td>\n",
       "    </tr>\n",
       "    <tr>\n",
       "      <th>16</th>\n",
       "      <td>Lunch Bags for Women, Insulated Cooler Backpac...</td>\n",
       "      <td>$29.99</td>\n",
       "      <td>4.7 out of 5 stars</td>\n",
       "      <td>485</td>\n",
       "      <td>https://www.amazon.com/Insulated-Backpack-Lunc...</td>\n",
       "      <td>https://m.media-amazon.com/images/I/81ZHtU5Qd7...</td>\n",
       "    </tr>\n",
       "    <tr>\n",
       "      <th>17</th>\n",
       "      <td>Travel Laptop Backpack,Extra Large Anti Theft ...</td>\n",
       "      <td>$26.34</td>\n",
       "      <td>4.7 out of 5 stars</td>\n",
       "      <td>7,801</td>\n",
       "      <td>https://www.amazon.com/Backpack-Charging-Resis...</td>\n",
       "      <td>https://m.media-amazon.com/images/I/61DlXYCISm...</td>\n",
       "    </tr>\n",
       "    <tr>\n",
       "      <th>18</th>\n",
       "      <td>Modoker Vintage Laptop Backpack for Women Men,...</td>\n",
       "      <td>$29.99</td>\n",
       "      <td>4.6 out of 5 stars</td>\n",
       "      <td>17,837</td>\n",
       "      <td>https://www.amazon.com/Modoker-Vintage-Backpac...</td>\n",
       "      <td>https://m.media-amazon.com/images/I/81ZhsL-772...</td>\n",
       "    </tr>\n",
       "    <tr>\n",
       "      <th>19</th>\n",
       "      <td>Amazon Basics School Backpack - Clear</td>\n",
       "      <td>$21.49</td>\n",
       "      <td>4.6 out of 5 stars</td>\n",
       "      <td>6,458</td>\n",
       "      <td>https://www.amazon.com/gp/slredirect/picassoRe...</td>\n",
       "      <td>https://m.media-amazon.com/images/I/91xoBob-Ad...</td>\n",
       "    </tr>\n",
       "    <tr>\n",
       "      <th>20</th>\n",
       "      <td>Orvilly Backpack Purse for Women, Stylish Coll...</td>\n",
       "      <td>$24.60</td>\n",
       "      <td>4.6 out of 5 stars</td>\n",
       "      <td>563</td>\n",
       "      <td>https://www.amazon.com/gp/slredirect/picassoRe...</td>\n",
       "      <td>https://m.media-amazon.com/images/I/81CS9+o0Ad...</td>\n",
       "    </tr>\n",
       "    <tr>\n",
       "      <th>21</th>\n",
       "      <td>Tzowla Laptop Backpack Purse for Women,Fits 13...</td>\n",
       "      <td>$22.95</td>\n",
       "      <td>4.4 out of 5 stars</td>\n",
       "      <td>4,459</td>\n",
       "      <td>https://www.amazon.com/gp/slredirect/picassoRe...</td>\n",
       "      <td>https://m.media-amazon.com/images/I/810IL8B7Q-...</td>\n",
       "    </tr>\n",
       "    <tr>\n",
       "      <th>22</th>\n",
       "      <td>Matein Travel Laptop Backpack, Business Anti T...</td>\n",
       "      <td>$29.99</td>\n",
       "      <td>4.8 out of 5 stars</td>\n",
       "      <td>49,588</td>\n",
       "      <td>https://www.amazon.com/Backpack-Business-Charg...</td>\n",
       "      <td>https://m.media-amazon.com/images/I/81p91cnIFE...</td>\n",
       "    </tr>\n",
       "    <tr>\n",
       "      <th>23</th>\n",
       "      <td>Laptop Backpack,Business Travel Anti Theft Sli...</td>\n",
       "      <td>$31.99</td>\n",
       "      <td>4.7 out of 5 stars</td>\n",
       "      <td>15,918</td>\n",
       "      <td>https://www.amazon.com/Backpack-Business-Charg...</td>\n",
       "      <td>https://m.media-amazon.com/images/I/81idlqFqcU...</td>\n",
       "    </tr>\n",
       "    <tr>\n",
       "      <th>24</th>\n",
       "      <td>JanSport SuperBreak One Backpack - Lightweight...</td>\n",
       "      <td>$36.00</td>\n",
       "      <td>4.7 out of 5 stars</td>\n",
       "      <td>23,810</td>\n",
       "      <td>https://www.amazon.com/JanSport-Superbreak-Bac...</td>\n",
       "      <td>https://m.media-amazon.com/images/I/91HkBT96VM...</td>\n",
       "    </tr>\n",
       "    <tr>\n",
       "      <th>25</th>\n",
       "      <td>Himawari Travel School Backpack with USB Charg...</td>\n",
       "      <td>$40.99</td>\n",
       "      <td>4.7 out of 5 stars</td>\n",
       "      <td>12,254</td>\n",
       "      <td>https://www.amazon.com/Himawari-Travel-Backpac...</td>\n",
       "      <td>https://m.media-amazon.com/images/I/61RX9JQlk+...</td>\n",
       "    </tr>\n",
       "    <tr>\n",
       "      <th>26</th>\n",
       "      <td>YOREPEK Backpack for Men,Extra Large 50L Trave...</td>\n",
       "      <td>$39.99</td>\n",
       "      <td>4.8 out of 5 stars</td>\n",
       "      <td>25,419</td>\n",
       "      <td>https://www.amazon.com/Backpack-Charging-Frien...</td>\n",
       "      <td>https://m.media-amazon.com/images/I/71cxnnsEHl...</td>\n",
       "    </tr>\n",
       "    <tr>\n",
       "      <th>27</th>\n",
       "      <td>UGRACE Vintage Laptop Backpack with USB Chargi...</td>\n",
       "      <td>$29.99</td>\n",
       "      <td>4.7 out of 5 stars</td>\n",
       "      <td>4,773</td>\n",
       "      <td>https://www.amazon.com/UGRACE-Backpack-Chargin...</td>\n",
       "      <td>https://m.media-amazon.com/images/I/81PH0selXq...</td>\n",
       "    </tr>\n",
       "    <tr>\n",
       "      <th>28</th>\n",
       "      <td>MANCIO Slim Laptop Backpack with USB Charging ...</td>\n",
       "      <td>$27.99</td>\n",
       "      <td>4.7 out of 5 stars</td>\n",
       "      <td>7,399</td>\n",
       "      <td>https://www.amazon.com/Backpack-Charging-Resis...</td>\n",
       "      <td>https://m.media-amazon.com/images/I/7112BpcDsn...</td>\n",
       "    </tr>\n",
       "    <tr>\n",
       "      <th>29</th>\n",
       "      <td>PUMA Evercat Contender Backpack</td>\n",
       "      <td>$24.00</td>\n",
       "      <td>4.7 out of 5 stars</td>\n",
       "      <td>9,592</td>\n",
       "      <td>https://www.amazon.com/PUMA-Evercat-Contender-...</td>\n",
       "      <td>https://m.media-amazon.com/images/I/A1Y1RCRyK2...</td>\n",
       "    </tr>\n",
       "    <tr>\n",
       "      <th>30</th>\n",
       "      <td>Himawari Laptop Backpack Travel Backpack With ...</td>\n",
       "      <td>$39.99</td>\n",
       "      <td>4.7 out of 5 stars</td>\n",
       "      <td>13,909</td>\n",
       "      <td>https://www.amazon.com/Himawari-Laptop-Backpac...</td>\n",
       "      <td>https://m.media-amazon.com/images/I/819FuK0wRk...</td>\n",
       "    </tr>\n",
       "    <tr>\n",
       "      <th>31</th>\n",
       "      <td>JanSport Cool Student Backpack - School, Trave...</td>\n",
       "      <td>$56.83</td>\n",
       "      <td>4.8 out of 5 stars</td>\n",
       "      <td>6,748</td>\n",
       "      <td>https://www.amazon.com/JanSport-Classic-Mainst...</td>\n",
       "      <td>https://m.media-amazon.com/images/I/91h5GCvpZJ...</td>\n",
       "    </tr>\n",
       "    <tr>\n",
       "      <th>32</th>\n",
       "      <td>Lightweight Backpack for School, VASCHY Classi...</td>\n",
       "      <td>$23.99</td>\n",
       "      <td>4.7 out of 5 stars</td>\n",
       "      <td>6,548</td>\n",
       "      <td>https://www.amazon.com/VASCHY-Lightweight-Back...</td>\n",
       "      <td>https://m.media-amazon.com/images/I/71xvovPVlS...</td>\n",
       "    </tr>\n",
       "    <tr>\n",
       "      <th>33</th>\n",
       "      <td>SHRRADOO Anti Theft Laptop Backpack Travel Bac...</td>\n",
       "      <td>$25.99</td>\n",
       "      <td>4.7 out of 5 stars</td>\n",
       "      <td>19,483</td>\n",
       "      <td>https://www.amazon.com/SOLDIERKNIFE-Waterproof...</td>\n",
       "      <td>https://m.media-amazon.com/images/I/81yBu9k41y...</td>\n",
       "    </tr>\n",
       "    <tr>\n",
       "      <th>34</th>\n",
       "      <td>Peicees Galaxy School Backpack with USB Chargi...</td>\n",
       "      <td>$24.99</td>\n",
       "      <td>4.2 out of 5 stars</td>\n",
       "      <td>206</td>\n",
       "      <td>https://www.amazon.com/Peicees-Backpack-Chargi...</td>\n",
       "      <td>https://m.media-amazon.com/images/I/611z6m2XFh...</td>\n",
       "    </tr>\n",
       "    <tr>\n",
       "      <th>35</th>\n",
       "      <td>Lunch Bags for Women, Insulated Cooler Backpac...</td>\n",
       "      <td>$29.99</td>\n",
       "      <td>4.7 out of 5 stars</td>\n",
       "      <td>485</td>\n",
       "      <td>https://www.amazon.com/Insulated-Backpack-Lunc...</td>\n",
       "      <td>https://m.media-amazon.com/images/I/81ZHtU5Qd7...</td>\n",
       "    </tr>\n",
       "    <tr>\n",
       "      <th>36</th>\n",
       "      <td>Travel Laptop Backpack,Extra Large Anti Theft ...</td>\n",
       "      <td>$26.34</td>\n",
       "      <td>4.7 out of 5 stars</td>\n",
       "      <td>7,801</td>\n",
       "      <td>https://www.amazon.com/Backpack-Charging-Resis...</td>\n",
       "      <td>https://m.media-amazon.com/images/I/61DlXYCISm...</td>\n",
       "    </tr>\n",
       "    <tr>\n",
       "      <th>37</th>\n",
       "      <td>Modoker Vintage Laptop Backpack for Women Men,...</td>\n",
       "      <td>$29.99</td>\n",
       "      <td>4.6 out of 5 stars</td>\n",
       "      <td>17,837</td>\n",
       "      <td>https://www.amazon.com/Modoker-Vintage-Backpac...</td>\n",
       "      <td>https://m.media-amazon.com/images/I/81ZhsL-772...</td>\n",
       "    </tr>\n",
       "  </tbody>\n",
       "</table>\n",
       "</div>"
      ],
      "text/plain": [
       "                                          Description   Price  \\\n",
       "0   Modoker Vintage Laptop Backpack for Women Men,...  $29.99   \n",
       "1   Matein Travel Laptop Backpack, Business Anti T...  $29.99   \n",
       "2   Laptop Backpack,Business Travel Anti Theft Sli...  $31.99   \n",
       "3   JanSport SuperBreak One Backpack - Lightweight...  $36.00   \n",
       "4   Himawari Travel School Backpack with USB Charg...  $40.99   \n",
       "5   YOREPEK Backpack for Men,Extra Large 50L Trave...  $39.99   \n",
       "6   UGRACE Vintage Laptop Backpack with USB Chargi...  $29.99   \n",
       "7   MANCIO Slim Laptop Backpack with USB Charging ...  $27.99   \n",
       "8                     PUMA Evercat Contender Backpack  $24.00   \n",
       "9   Leather Messenger Bag for Men, 17.3 Inch Vinta...  $45.99   \n",
       "10  Himawari Laptop Backpack Travel Backpack With ...  $39.99   \n",
       "11  JanSport Cool Student Backpack - School, Trave...  $56.83   \n",
       "12  Lightweight Backpack for School, VASCHY Classi...  $23.99   \n",
       "13  SHRRADOO Anti Theft Laptop Backpack Travel Bac...  $25.99   \n",
       "14  Casual Backpack Laptop 15 Inch Waterproof Scho...  $23.99   \n",
       "15  Peicees Galaxy School Backpack with USB Chargi...  $24.99   \n",
       "16  Lunch Bags for Women, Insulated Cooler Backpac...  $29.99   \n",
       "17  Travel Laptop Backpack,Extra Large Anti Theft ...  $26.34   \n",
       "18  Modoker Vintage Laptop Backpack for Women Men,...  $29.99   \n",
       "19              Amazon Basics School Backpack - Clear  $21.49   \n",
       "20  Orvilly Backpack Purse for Women, Stylish Coll...  $24.60   \n",
       "21  Tzowla Laptop Backpack Purse for Women,Fits 13...  $22.95   \n",
       "22  Matein Travel Laptop Backpack, Business Anti T...  $29.99   \n",
       "23  Laptop Backpack,Business Travel Anti Theft Sli...  $31.99   \n",
       "24  JanSport SuperBreak One Backpack - Lightweight...  $36.00   \n",
       "25  Himawari Travel School Backpack with USB Charg...  $40.99   \n",
       "26  YOREPEK Backpack for Men,Extra Large 50L Trave...  $39.99   \n",
       "27  UGRACE Vintage Laptop Backpack with USB Chargi...  $29.99   \n",
       "28  MANCIO Slim Laptop Backpack with USB Charging ...  $27.99   \n",
       "29                    PUMA Evercat Contender Backpack  $24.00   \n",
       "30  Himawari Laptop Backpack Travel Backpack With ...  $39.99   \n",
       "31  JanSport Cool Student Backpack - School, Trave...  $56.83   \n",
       "32  Lightweight Backpack for School, VASCHY Classi...  $23.99   \n",
       "33  SHRRADOO Anti Theft Laptop Backpack Travel Bac...  $25.99   \n",
       "34  Peicees Galaxy School Backpack with USB Chargi...  $24.99   \n",
       "35  Lunch Bags for Women, Insulated Cooler Backpac...  $29.99   \n",
       "36  Travel Laptop Backpack,Extra Large Anti Theft ...  $26.34   \n",
       "37  Modoker Vintage Laptop Backpack for Women Men,...  $29.99   \n",
       "\n",
       "                Rating Reviews Count  \\\n",
       "0   4.6 out of 5 stars        17,837   \n",
       "1   4.8 out of 5 stars        49,588   \n",
       "2   4.7 out of 5 stars        15,918   \n",
       "3   4.7 out of 5 stars        23,810   \n",
       "4   4.7 out of 5 stars        12,254   \n",
       "5   4.8 out of 5 stars        25,419   \n",
       "6   4.7 out of 5 stars         4,773   \n",
       "7   4.7 out of 5 stars         7,399   \n",
       "8   4.7 out of 5 stars         9,592   \n",
       "9   4.6 out of 5 stars         2,466   \n",
       "10  4.7 out of 5 stars        13,909   \n",
       "11  4.8 out of 5 stars         6,748   \n",
       "12  4.7 out of 5 stars         6,548   \n",
       "13  4.7 out of 5 stars        19,483   \n",
       "14  4.1 out of 5 stars             9   \n",
       "15  4.2 out of 5 stars           206   \n",
       "16  4.7 out of 5 stars           485   \n",
       "17  4.7 out of 5 stars         7,801   \n",
       "18  4.6 out of 5 stars        17,837   \n",
       "19  4.6 out of 5 stars         6,458   \n",
       "20  4.6 out of 5 stars           563   \n",
       "21  4.4 out of 5 stars         4,459   \n",
       "22  4.8 out of 5 stars        49,588   \n",
       "23  4.7 out of 5 stars        15,918   \n",
       "24  4.7 out of 5 stars        23,810   \n",
       "25  4.7 out of 5 stars        12,254   \n",
       "26  4.8 out of 5 stars        25,419   \n",
       "27  4.7 out of 5 stars         4,773   \n",
       "28  4.7 out of 5 stars         7,399   \n",
       "29  4.7 out of 5 stars         9,592   \n",
       "30  4.7 out of 5 stars        13,909   \n",
       "31  4.8 out of 5 stars         6,748   \n",
       "32  4.7 out of 5 stars         6,548   \n",
       "33  4.7 out of 5 stars        19,483   \n",
       "34  4.2 out of 5 stars           206   \n",
       "35  4.7 out of 5 stars           485   \n",
       "36  4.7 out of 5 stars         7,801   \n",
       "37  4.6 out of 5 stars        17,837   \n",
       "\n",
       "                                                  URL  \\\n",
       "0   https://www.amazon.com/gp/slredirect/picassoRe...   \n",
       "1   https://www.amazon.com/Backpack-Business-Charg...   \n",
       "2   https://www.amazon.com/Backpack-Business-Charg...   \n",
       "3   https://www.amazon.com/JanSport-Superbreak-Bac...   \n",
       "4   https://www.amazon.com/Himawari-Travel-Backpac...   \n",
       "5   https://www.amazon.com/Backpack-Charging-Frien...   \n",
       "6   https://www.amazon.com/UGRACE-Backpack-Chargin...   \n",
       "7   https://www.amazon.com/Backpack-Charging-Resis...   \n",
       "8   https://www.amazon.com/PUMA-Evercat-Contender-...   \n",
       "9   https://www.amazon.com/gp/slredirect/picassoRe...   \n",
       "10  https://www.amazon.com/Himawari-Laptop-Backpac...   \n",
       "11  https://www.amazon.com/JanSport-Classic-Mainst...   \n",
       "12  https://www.amazon.com/VASCHY-Lightweight-Back...   \n",
       "13  https://www.amazon.com/SOLDIERKNIFE-Waterproof...   \n",
       "14  https://www.amazon.com/gp/slredirect/picassoRe...   \n",
       "15  https://www.amazon.com/Peicees-Backpack-Chargi...   \n",
       "16  https://www.amazon.com/Insulated-Backpack-Lunc...   \n",
       "17  https://www.amazon.com/Backpack-Charging-Resis...   \n",
       "18  https://www.amazon.com/Modoker-Vintage-Backpac...   \n",
       "19  https://www.amazon.com/gp/slredirect/picassoRe...   \n",
       "20  https://www.amazon.com/gp/slredirect/picassoRe...   \n",
       "21  https://www.amazon.com/gp/slredirect/picassoRe...   \n",
       "22  https://www.amazon.com/Backpack-Business-Charg...   \n",
       "23  https://www.amazon.com/Backpack-Business-Charg...   \n",
       "24  https://www.amazon.com/JanSport-Superbreak-Bac...   \n",
       "25  https://www.amazon.com/Himawari-Travel-Backpac...   \n",
       "26  https://www.amazon.com/Backpack-Charging-Frien...   \n",
       "27  https://www.amazon.com/UGRACE-Backpack-Chargin...   \n",
       "28  https://www.amazon.com/Backpack-Charging-Resis...   \n",
       "29  https://www.amazon.com/PUMA-Evercat-Contender-...   \n",
       "30  https://www.amazon.com/Himawari-Laptop-Backpac...   \n",
       "31  https://www.amazon.com/JanSport-Classic-Mainst...   \n",
       "32  https://www.amazon.com/VASCHY-Lightweight-Back...   \n",
       "33  https://www.amazon.com/SOLDIERKNIFE-Waterproof...   \n",
       "34  https://www.amazon.com/Peicees-Backpack-Chargi...   \n",
       "35  https://www.amazon.com/Insulated-Backpack-Lunc...   \n",
       "36  https://www.amazon.com/Backpack-Charging-Resis...   \n",
       "37  https://www.amazon.com/Modoker-Vintage-Backpac...   \n",
       "\n",
       "                                           Image link  \n",
       "0   https://m.media-amazon.com/images/I/81ZhsL-772...  \n",
       "1   https://m.media-amazon.com/images/I/81p91cnIFE...  \n",
       "2   https://m.media-amazon.com/images/I/81idlqFqcU...  \n",
       "3   https://m.media-amazon.com/images/I/91HkBT96VM...  \n",
       "4   https://m.media-amazon.com/images/I/61RX9JQlk+...  \n",
       "5   https://m.media-amazon.com/images/I/71cxnnsEHl...  \n",
       "6   https://m.media-amazon.com/images/I/81PH0selXq...  \n",
       "7   https://m.media-amazon.com/images/I/7112BpcDsn...  \n",
       "8   https://m.media-amazon.com/images/I/A1Y1RCRyK2...  \n",
       "9   https://m.media-amazon.com/images/I/71eSTfEnl+...  \n",
       "10  https://m.media-amazon.com/images/I/819FuK0wRk...  \n",
       "11  https://m.media-amazon.com/images/I/91h5GCvpZJ...  \n",
       "12  https://m.media-amazon.com/images/I/71xvovPVlS...  \n",
       "13  https://m.media-amazon.com/images/I/81yBu9k41y...  \n",
       "14  https://m.media-amazon.com/images/I/71FQG7OsJG...  \n",
       "15  https://m.media-amazon.com/images/I/611z6m2XFh...  \n",
       "16  https://m.media-amazon.com/images/I/81ZHtU5Qd7...  \n",
       "17  https://m.media-amazon.com/images/I/61DlXYCISm...  \n",
       "18  https://m.media-amazon.com/images/I/81ZhsL-772...  \n",
       "19  https://m.media-amazon.com/images/I/91xoBob-Ad...  \n",
       "20  https://m.media-amazon.com/images/I/81CS9+o0Ad...  \n",
       "21  https://m.media-amazon.com/images/I/810IL8B7Q-...  \n",
       "22  https://m.media-amazon.com/images/I/81p91cnIFE...  \n",
       "23  https://m.media-amazon.com/images/I/81idlqFqcU...  \n",
       "24  https://m.media-amazon.com/images/I/91HkBT96VM...  \n",
       "25  https://m.media-amazon.com/images/I/61RX9JQlk+...  \n",
       "26  https://m.media-amazon.com/images/I/71cxnnsEHl...  \n",
       "27  https://m.media-amazon.com/images/I/81PH0selXq...  \n",
       "28  https://m.media-amazon.com/images/I/7112BpcDsn...  \n",
       "29  https://m.media-amazon.com/images/I/A1Y1RCRyK2...  \n",
       "30  https://m.media-amazon.com/images/I/819FuK0wRk...  \n",
       "31  https://m.media-amazon.com/images/I/91h5GCvpZJ...  \n",
       "32  https://m.media-amazon.com/images/I/71xvovPVlS...  \n",
       "33  https://m.media-amazon.com/images/I/81yBu9k41y...  \n",
       "34  https://m.media-amazon.com/images/I/611z6m2XFh...  \n",
       "35  https://m.media-amazon.com/images/I/81ZHtU5Qd7...  \n",
       "36  https://m.media-amazon.com/images/I/61DlXYCISm...  \n",
       "37  https://m.media-amazon.com/images/I/81ZhsL-772...  "
      ]
     },
     "execution_count": 47,
     "metadata": {},
     "output_type": "execute_result"
    }
   ],
   "source": [
    "import pandas as pd\n",
    "df=pd.read_csv('Results.csv')\n",
    "df"
   ]
  },
  {
   "cell_type": "code",
   "execution_count": null,
   "metadata": {},
   "outputs": [],
   "source": []
  }
 ],
 "metadata": {
  "kernelspec": {
   "display_name": "Python 3",
   "language": "python",
   "name": "python3"
  },
  "language_info": {
   "codemirror_mode": {
    "name": "ipython",
    "version": 3
   },
   "file_extension": ".py",
   "mimetype": "text/x-python",
   "name": "python",
   "nbconvert_exporter": "python",
   "pygments_lexer": "ipython3",
   "version": "3.8.8"
  }
 },
 "nbformat": 4,
 "nbformat_minor": 2
}
